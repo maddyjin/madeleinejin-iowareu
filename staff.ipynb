{
 "cells": [
  {
   "cell_type": "markdown",
   "id": "ef70321e",
   "metadata": {},
   "source": [
    "# staff.py"
   ]
  },
  {
   "cell_type": "markdown",
   "id": "62d23eeb",
   "metadata": {},
   "source": [
    "Purpose: output SQL statement that can be used to get staff members that fit the characteristics given\n",
    "\n",
    "- Build Python code staff.py to extract staffing using same configuration file as pull.py\n",
    "- Usage: staff.py config.cfg\n",
    "- Outputs staffing levels to STDOUT\n",
    "\n",
    "- Q: what should this look like? For now:\n",
    "\n",
    "- For each day output\n",
    "    - For each hcw/uid output 3 types of records\n",
    "        - hcw, 'day', nday, uid, #days-worked, jtid, #visits, #unique-rooms, min(itime), max(otime), max(otime)-min(itime) [#days-worked always 1]\n",
    "        - hcw, 'week', nweek, uid, #days-worked, jtid, #visits, #unique-rooms, min(itime), max(otime), max(otime)-min(itime)   [only complete weeks]\n",
    "        - hcw, 'all', ndays, uid, #days-worked, jtid, #visits, #unique-rooms, min(itime), max(otime), max(otime)-min(itime)    [over the entire interval]\n",
    "\n",
    "- where nday is an integer 0-6 and Mon=0, Tue=1... \n",
    "    - and #days-worked always 1 (only one day for this kind of record) \n",
    "    - and nweek is an integer (the \"iso week\" of the year) \n",
    "    - and ndays is an integer counting number of days in the interval\n",
    "\n",
    "- so the output will be a bunch of csv-like lines. \n",
    "- The second field determines the line type, and the third field has a type-dependent interpretation. \n",
    "- So if a HCW works 3 days/week for the 2.5 weeks weeks in the pull interval, we should see:\n",
    "    - 3*2.5 = ~8 lines of the first type [e.g., 'Mon' or 'Sat']\n",
    "    - 2 lines of the second type ['week'], each Mon-Sun\n",
    "    - 1 line of the third type ['all']"
   ]
  },
  {
   "cell_type": "markdown",
   "id": "08e53c04",
   "metadata": {},
   "source": [
    "Generates a mySQL query for the ssense Database that returns information from the Database in regards to hcws.\n",
    "The specific attributes and values within are extracted via text file, who's name or path is the only parameter.\n",
    "The file should be formatted where each line denotes a specification of what attribute you want and what value \n",
    "you want from the attribute. \n",
    "\n",
    "If there are no such lines, the query generated would be a viewing of ssense.visits.\n",
    "It is assumed when referring to dates that if the year is last, then month preceeds day."
   ]
  },
  {
   "cell_type": "code",
   "execution_count": null,
   "id": "f765cc51",
   "metadata": {},
   "outputs": [],
   "source": [
    "# CONFIGURATION FILE CSV INPUTS\n",
    "# hid\n",
    "# start\n",
    "# end\n",
    "\n",
    "# TABLE RETURNS:\n",
    "# hid\n",
    "# uid\n",
    "# jtid\n",
    "# num_unique_rooms\n",
    "# num_visits\n",
    "\n",
    "# min_itime\n",
    "# max_otime\n",
    "# max_otime_min_itime\n",
    "\n",
    "# begin_date\n",
    "# end_date\n",
    "# nday\n",
    "# nweek\n",
    "# ndays"
   ]
  },
  {
   "cell_type": "code",
   "execution_count": null,
   "id": "e5a39efe",
   "metadata": {},
   "outputs": [],
   "source": [
    "# import mysql.connector as cnxn\n",
    "# connection = cnxn.connect(host = \"vinci.cs.uiowa.edu\", database = \"ssense\", user = \"madjin\", password = \"madjin\")"
   ]
  },
  {
   "cell_type": "code",
   "execution_count": 2,
   "id": "52738cae",
   "metadata": {},
   "outputs": [],
   "source": [
    "# imports\n",
    "from dateutil import parser\n",
    "from datetime import date\n",
    "from pandas import to_datetime\n",
    "from datetime import datetime\n",
    "import datetime\n",
    "import re\n",
    "import argparse\n",
    "from dateutil.parser import parse"
   ]
  },
  {
   "cell_type": "code",
   "execution_count": 48,
   "id": "ce8195f1",
   "metadata": {
    "scrolled": true
   },
   "outputs": [
    {
     "name": "stdout",
     "output_type": "stream",
     "text": [
      "SELECT v.hid, \"day\" AS period, u.uid, j.jtid, DATE(v.itime) AS date, DAYOFWEEK(v.itime) AS nday, WEEKOFYEAR(v.itime) AS week, COUNT(DISTINCT v.rid) AS num_rooms, COUNT(DISTINCT v.vid) AS num_visits, MIN(v.itime), MAX(v.otime), 1 AS ndays, TIMEDIFF(MAX(v.otime), MIN(v.itime)) as time_diff\n",
      "FROM visits v, hcws h, rooms r, units u, jobs j\n",
      "WHERE v.hid=h.hid AND v.rid=r.rid AND r.uid=u.uid AND h.jid=j.jid AND v.hid in (10,11,12) AND v.itime >= \"2017-01-01 00:00:00\" AND v.otime <= \"2018-12-01 00:00:00\"\n",
      "GROUP BY v.hid, date;\n"
     ]
    }
   ],
   "source": [
    "filename = 'staff_tester.txt'\n",
    "use_start = False\n",
    "use_end = False\n",
    "\n",
    "with open(filename, 'r') as config:\n",
    "    select_values = 'v.hid, \"day\" AS period, u.uid, j.jtid, DATE(v.itime) AS date, DAYOFWEEK(v.itime) AS nday, WEEKOFYEAR(v.itime) AS week, COUNT(DISTINCT v.rid) AS num_rooms, COUNT(DISTINCT v.vid) AS num_visits, MIN(v.itime), MAX(v.otime), 1 AS ndays'\n",
    "    # DAYOFWEEK(date) AS ndays, \\\n",
    "    from_values = 'visits v, hcws h, rooms r, units u, jobs j'\n",
    "    where_values = 'v.hid=h.hid AND v.rid=r.rid AND r.uid=u.uid AND h.jid=j.jid AND'\n",
    "    group_by_values = 'v.hid, date'\n",
    "    \n",
    "    for line in config:\n",
    "        line = [part.strip().lower() for part in line.split(':')]\n",
    "\n",
    "        match line[0]:\n",
    "            case 'hid':\n",
    "                hid = line[1]\n",
    "                try:\n",
    "                    hid_list = []\n",
    "                    for a, b in re.findall(r'(\\d+)-?(\\d*)', str(hid)):\n",
    "                        hid_list.extend(range(int(a), int(a)+1 if b=='' else int(b)+1))\n",
    "                    where_values += \" v.hid in (\"\n",
    "                    for item in hid_list:\n",
    "                        where_values += str(item) + \",\"\n",
    "                    where_values = \" \" + where_values[:-1] + \") AND \"\n",
    "                except:\n",
    "                    print('invalid format: {} is an invalid specification for attribute {}'.format(info[1:], info[0]))\n",
    "                    break\n",
    "                \n",
    "            case 'start':\n",
    "                start = parser.parse(':'.join(line[1:]))\n",
    "                use_start = True\n",
    "\n",
    "            case 'end':\n",
    "                end = parser.parse(':'.join(line[1:]))\n",
    "                use_end = True\n",
    "            \n",
    "            case '#':\n",
    "                pass\n",
    "\n",
    "# start and end values\n",
    "if use_start==True and use_end==True:\n",
    "    select_values += f', TIMEDIFF(MAX(v.otime), MIN(v.itime)) as time_diff'\n",
    "    where_values += f'v.itime >= \"{start}\" AND v.otime <= \"{end}\"'.format(start, end)\n",
    "    ndays = (end-start).days\n",
    "elif use_start:\n",
    "    select_values += f', MAX(v.otime)-MIN(v.itime) as time_diff'\n",
    "    where_values += f'v.itime >= \"{start}\" AND '\n",
    "    ndays = (end-start).days\n",
    "elif use_end:\n",
    "    select_values += f', MAX(v.otime)-MIN(v.itime) as time_diff'\n",
    "    where_values += f'v.otime <= \"{end}\" AND '\n",
    "    ndays = (end-start).days\n",
    "                      \n",
    "# Putting the pieces together\n",
    "select_values = select_values.strip(' AND')\n",
    "from_values = from_values.strip(' AND')\n",
    "where_values = where_values.strip(' AND')\n",
    "group_by_values = group_by_values.strip(' AND')\n",
    "sql_statement = 'SELECT '+select_values+'\\n'+'FROM '+from_values+'\\n'+'WHERE '+where_values+'\\n'+'GROUP BY '+group_by_values + ';'\n",
    "#sql_statement = 'SELECT '+select_values+' '+'FROM '+from_values+' '+'WHERE '+where_values+' '+'GROUP BY '+group_by_values + ';'\n",
    "\n",
    "print(sql_statement)"
   ]
  }
 ],
 "metadata": {
  "kernelspec": {
   "display_name": "Python 3 (ipykernel)",
   "language": "python",
   "name": "python3"
  },
  "language_info": {
   "codemirror_mode": {
    "name": "ipython",
    "version": 3
   },
   "file_extension": ".py",
   "mimetype": "text/x-python",
   "name": "python",
   "nbconvert_exporter": "python",
   "pygments_lexer": "ipython3",
   "version": "3.10.9"
  }
 },
 "nbformat": 4,
 "nbformat_minor": 5
}
